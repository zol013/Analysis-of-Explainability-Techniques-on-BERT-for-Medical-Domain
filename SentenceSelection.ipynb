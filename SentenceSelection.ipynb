{
  "nbformat": 4,
  "nbformat_minor": 0,
  "metadata": {
    "colab": {
      "provenance": []
    },
    "kernelspec": {
      "name": "python3",
      "display_name": "Python 3"
    },
    "language_info": {
      "name": "python"
    }
  },
  "cells": [
    {
      "cell_type": "code",
      "source": [
        "import pandas as pd\n",
        "import scipy as sp\n",
        "import numpy as np"
      ],
      "metadata": {
        "id": "XVVnWd4nK3TP"
      },
      "execution_count": null,
      "outputs": []
    },
    {
      "cell_type": "code",
      "source": [
        "from google.colab import drive\n",
        "drive.mount('/content/drive')"
      ],
      "metadata": {
        "colab": {
          "base_uri": "https://localhost:8080/"
        },
        "id": "on6em5OELAdu",
        "outputId": "d2b23e12-47a1-41aa-df5d-db16f1730237"
      },
      "execution_count": null,
      "outputs": [
        {
          "output_type": "stream",
          "name": "stdout",
          "text": [
            "Mounted at /content/drive\n"
          ]
        }
      ]
    },
    {
      "cell_type": "code",
      "execution_count": null,
      "metadata": {
        "id": "fvuQRImVKuSl"
      },
      "outputs": [],
      "source": [
        "train = pd.read_csv(\"/content/drive/MyDrive/CSE 256 Project/XAI/data/medical_tc_train_cleaned.csv\")\n",
        "test =  pd.read_csv(\"/content/drive/MyDrive/CSE 256 Project/XAI/data/medical_tc_test_cleaned.csv\")\n",
        "labels = pd.read_csv(\"/content/drive/MyDrive/CSE 256 Project/XAI/data/medical_tc_labels.csv\")"
      ]
    },
    {
      "cell_type": "code",
      "source": [
        "testData = pd.DataFrame({'medical_abstract': test['medical_abstract'], 'condition_label': test['condition_label']})\n",
        "testData.head()"
      ],
      "metadata": {
        "colab": {
          "base_uri": "https://localhost:8080/",
          "height": 206
        },
        "id": "tg29wJHELOdT",
        "outputId": "0a3aa691-f19c-4625-b759-8cef5720eb77"
      },
      "execution_count": null,
      "outputs": [
        {
          "output_type": "execute_result",
          "data": {
            "text/plain": [
              "                                    medical_abstract     condition_label\n",
              "0  obstructive sleep apnea following topical orop...  non-cardiovascular\n",
              "1  neutrophil function and pyogenic infections bo...  non-cardiovascular\n",
              "2  phase ii study combined methotrexate and tenip...  non-cardiovascular\n",
              "3  flow cytometric dna analysis parathyroid tumor...  non-cardiovascular\n",
              "4  paraneoplastic vasculitic neuropathy treatable...      cardiovascular"
            ],
            "text/html": [
              "\n",
              "  <div id=\"df-b8bb350f-ec05-40ef-ac5b-bc06a3edebec\">\n",
              "    <div class=\"colab-df-container\">\n",
              "      <div>\n",
              "<style scoped>\n",
              "    .dataframe tbody tr th:only-of-type {\n",
              "        vertical-align: middle;\n",
              "    }\n",
              "\n",
              "    .dataframe tbody tr th {\n",
              "        vertical-align: top;\n",
              "    }\n",
              "\n",
              "    .dataframe thead th {\n",
              "        text-align: right;\n",
              "    }\n",
              "</style>\n",
              "<table border=\"1\" class=\"dataframe\">\n",
              "  <thead>\n",
              "    <tr style=\"text-align: right;\">\n",
              "      <th></th>\n",
              "      <th>medical_abstract</th>\n",
              "      <th>condition_label</th>\n",
              "    </tr>\n",
              "  </thead>\n",
              "  <tbody>\n",
              "    <tr>\n",
              "      <th>0</th>\n",
              "      <td>obstructive sleep apnea following topical orop...</td>\n",
              "      <td>non-cardiovascular</td>\n",
              "    </tr>\n",
              "    <tr>\n",
              "      <th>1</th>\n",
              "      <td>neutrophil function and pyogenic infections bo...</td>\n",
              "      <td>non-cardiovascular</td>\n",
              "    </tr>\n",
              "    <tr>\n",
              "      <th>2</th>\n",
              "      <td>phase ii study combined methotrexate and tenip...</td>\n",
              "      <td>non-cardiovascular</td>\n",
              "    </tr>\n",
              "    <tr>\n",
              "      <th>3</th>\n",
              "      <td>flow cytometric dna analysis parathyroid tumor...</td>\n",
              "      <td>non-cardiovascular</td>\n",
              "    </tr>\n",
              "    <tr>\n",
              "      <th>4</th>\n",
              "      <td>paraneoplastic vasculitic neuropathy treatable...</td>\n",
              "      <td>cardiovascular</td>\n",
              "    </tr>\n",
              "  </tbody>\n",
              "</table>\n",
              "</div>\n",
              "      <button class=\"colab-df-convert\" onclick=\"convertToInteractive('df-b8bb350f-ec05-40ef-ac5b-bc06a3edebec')\"\n",
              "              title=\"Convert this dataframe to an interactive table.\"\n",
              "              style=\"display:none;\">\n",
              "        \n",
              "  <svg xmlns=\"http://www.w3.org/2000/svg\" height=\"24px\"viewBox=\"0 0 24 24\"\n",
              "       width=\"24px\">\n",
              "    <path d=\"M0 0h24v24H0V0z\" fill=\"none\"/>\n",
              "    <path d=\"M18.56 5.44l.94 2.06.94-2.06 2.06-.94-2.06-.94-.94-2.06-.94 2.06-2.06.94zm-11 1L8.5 8.5l.94-2.06 2.06-.94-2.06-.94L8.5 2.5l-.94 2.06-2.06.94zm10 10l.94 2.06.94-2.06 2.06-.94-2.06-.94-.94-2.06-.94 2.06-2.06.94z\"/><path d=\"M17.41 7.96l-1.37-1.37c-.4-.4-.92-.59-1.43-.59-.52 0-1.04.2-1.43.59L10.3 9.45l-7.72 7.72c-.78.78-.78 2.05 0 2.83L4 21.41c.39.39.9.59 1.41.59.51 0 1.02-.2 1.41-.59l7.78-7.78 2.81-2.81c.8-.78.8-2.07 0-2.86zM5.41 20L4 18.59l7.72-7.72 1.47 1.35L5.41 20z\"/>\n",
              "  </svg>\n",
              "      </button>\n",
              "      \n",
              "  <style>\n",
              "    .colab-df-container {\n",
              "      display:flex;\n",
              "      flex-wrap:wrap;\n",
              "      gap: 12px;\n",
              "    }\n",
              "\n",
              "    .colab-df-convert {\n",
              "      background-color: #E8F0FE;\n",
              "      border: none;\n",
              "      border-radius: 50%;\n",
              "      cursor: pointer;\n",
              "      display: none;\n",
              "      fill: #1967D2;\n",
              "      height: 32px;\n",
              "      padding: 0 0 0 0;\n",
              "      width: 32px;\n",
              "    }\n",
              "\n",
              "    .colab-df-convert:hover {\n",
              "      background-color: #E2EBFA;\n",
              "      box-shadow: 0px 1px 2px rgba(60, 64, 67, 0.3), 0px 1px 3px 1px rgba(60, 64, 67, 0.15);\n",
              "      fill: #174EA6;\n",
              "    }\n",
              "\n",
              "    [theme=dark] .colab-df-convert {\n",
              "      background-color: #3B4455;\n",
              "      fill: #D2E3FC;\n",
              "    }\n",
              "\n",
              "    [theme=dark] .colab-df-convert:hover {\n",
              "      background-color: #434B5C;\n",
              "      box-shadow: 0px 1px 3px 1px rgba(0, 0, 0, 0.15);\n",
              "      filter: drop-shadow(0px 1px 2px rgba(0, 0, 0, 0.3));\n",
              "      fill: #FFFFFF;\n",
              "    }\n",
              "  </style>\n",
              "\n",
              "      <script>\n",
              "        const buttonEl =\n",
              "          document.querySelector('#df-b8bb350f-ec05-40ef-ac5b-bc06a3edebec button.colab-df-convert');\n",
              "        buttonEl.style.display =\n",
              "          google.colab.kernel.accessAllowed ? 'block' : 'none';\n",
              "\n",
              "        async function convertToInteractive(key) {\n",
              "          const element = document.querySelector('#df-b8bb350f-ec05-40ef-ac5b-bc06a3edebec');\n",
              "          const dataTable =\n",
              "            await google.colab.kernel.invokeFunction('convertToInteractive',\n",
              "                                                     [key], {});\n",
              "          if (!dataTable) return;\n",
              "\n",
              "          const docLinkHtml = 'Like what you see? Visit the ' +\n",
              "            '<a target=\"_blank\" href=https://colab.research.google.com/notebooks/data_table.ipynb>data table notebook</a>'\n",
              "            + ' to learn more about interactive tables.';\n",
              "          element.innerHTML = '';\n",
              "          dataTable['output_type'] = 'display_data';\n",
              "          await google.colab.output.renderOutput(dataTable, element);\n",
              "          const docLink = document.createElement('div');\n",
              "          docLink.innerHTML = docLinkHtml;\n",
              "          element.appendChild(docLink);\n",
              "        }\n",
              "      </script>\n",
              "    </div>\n",
              "  </div>\n",
              "  "
            ]
          },
          "metadata": {},
          "execution_count": 4
        }
      ]
    },
    {
      "cell_type": "code",
      "source": [
        "sentence_lengths = []\n",
        "for sentence in testData['medical_abstract']:\n",
        "  sentence_lengths.append(len(sentence))"
      ],
      "metadata": {
        "id": "DHKYsql6LXjt"
      },
      "execution_count": null,
      "outputs": []
    },
    {
      "cell_type": "code",
      "source": [
        "import matplotlib.pyplot as plt\n",
        "plt.hist(sentence_lengths)\n",
        "plt.show()"
      ],
      "metadata": {
        "colab": {
          "base_uri": "https://localhost:8080/",
          "height": 430
        },
        "id": "xhi2zY-uLy9O",
        "outputId": "7a98ac0e-f086-4ad9-abd8-23c50ccdd098"
      },
      "execution_count": null,
      "outputs": [
        {
          "output_type": "display_data",
          "data": {
            "text/plain": [
              "<Figure size 640x480 with 1 Axes>"
            ],
            "image/png": "[encoded data removed]"
          },
          "metadata": {}
        }
      ]
    },
    {
      "cell_type": "code",
      "source": [
        "shortTestData = testData[testData['medical_abstract'].str.len() < 300]\n",
        "shortTestData.head()"
      ],
      "metadata": {
        "colab": {
          "base_uri": "https://localhost:8080/",
          "height": 206
        },
        "id": "JNO4NY78MG26",
        "outputId": "32b17455-9e99-46b6-811e-97d6ef45b033"
      },
      "execution_count": null,
      "outputs": [
        {
          "output_type": "execute_result",
          "data": {
            "text/plain": [
              "                                      medical_abstract     condition_label\n",
              "61   ptca gastroepiploic bypass technique percutane...  non-cardiovascular\n",
              "75   catheterization coronary artery bypass graft f...  non-cardiovascular\n",
              "100  gastroesophageal reflux infants clinically sig...  non-cardiovascular\n",
              "110  sudden death from acute cocaine intoxication v...  non-cardiovascular\n",
              "119  case unilateral posterior ischemic optic neuro...      cardiovascular"
            ],
            "text/html": [
              "\n",
              "  <div id=\"df-311e5f1f-a041-4f95-be7f-2fc03f795e3e\">\n",
              "    <div class=\"colab-df-container\">\n",
              "      <div>\n",
              "<style scoped>\n",
              "    .dataframe tbody tr th:only-of-type {\n",
              "        vertical-align: middle;\n",
              "    }\n",
              "\n",
              "    .dataframe tbody tr th {\n",
              "        vertical-align: top;\n",
              "    }\n",
              "\n",
              "    .dataframe thead th {\n",
              "        text-align: right;\n",
              "    }\n",
              "</style>\n",
              "<table border=\"1\" class=\"dataframe\">\n",
              "  <thead>\n",
              "    <tr style=\"text-align: right;\">\n",
              "      <th></th>\n",
              "      <th>medical_abstract</th>\n",
              "      <th>condition_label</th>\n",
              "    </tr>\n",
              "  </thead>\n",
              "  <tbody>\n",
              "    <tr>\n",
              "      <th>61</th>\n",
              "      <td>ptca gastroepiploic bypass technique percutane...</td>\n",
              "      <td>non-cardiovascular</td>\n",
              "    </tr>\n",
              "    <tr>\n",
              "      <th>75</th>\n",
              "      <td>catheterization coronary artery bypass graft f...</td>\n",
              "      <td>non-cardiovascular</td>\n",
              "    </tr>\n",
              "    <tr>\n",
              "      <th>100</th>\n",
              "      <td>gastroesophageal reflux infants clinically sig...</td>\n",
              "      <td>non-cardiovascular</td>\n",
              "    </tr>\n",
              "    <tr>\n",
              "      <th>110</th>\n",
              "      <td>sudden death from acute cocaine intoxication v...</td>\n",
              "      <td>non-cardiovascular</td>\n",
              "    </tr>\n",
              "    <tr>\n",
              "      <th>119</th>\n",
              "      <td>case unilateral posterior ischemic optic neuro...</td>\n",
              "      <td>cardiovascular</td>\n",
              "    </tr>\n",
              "  </tbody>\n",
              "</table>\n",
              "</div>\n",
              "      <button class=\"colab-df-convert\" onclick=\"convertToInteractive('df-311e5f1f-a041-4f95-be7f-2fc03f795e3e')\"\n",
              "              title=\"Convert this dataframe to an interactive table.\"\n",
              "              style=\"display:none;\">\n",
              "        \n",
              "  <svg xmlns=\"http://www.w3.org/2000/svg\" height=\"24px\"viewBox=\"0 0 24 24\"\n",
              "       width=\"24px\">\n",
              "    <path d=\"M0 0h24v24H0V0z\" fill=\"none\"/>\n",
              "    <path d=\"M18.56 5.44l.94 2.06.94-2.06 2.06-.94-2.06-.94-.94-2.06-.94 2.06-2.06.94zm-11 1L8.5 8.5l.94-2.06 2.06-.94-2.06-.94L8.5 2.5l-.94 2.06-2.06.94zm10 10l.94 2.06.94-2.06 2.06-.94-2.06-.94-.94-2.06-.94 2.06-2.06.94z\"/><path d=\"M17.41 7.96l-1.37-1.37c-.4-.4-.92-.59-1.43-.59-.52 0-1.04.2-1.43.59L10.3 9.45l-7.72 7.72c-.78.78-.78 2.05 0 2.83L4 21.41c.39.39.9.59 1.41.59.51 0 1.02-.2 1.41-.59l7.78-7.78 2.81-2.81c.8-.78.8-2.07 0-2.86zM5.41 20L4 18.59l7.72-7.72 1.47 1.35L5.41 20z\"/>\n",
              "  </svg>\n",
              "      </button>\n",
              "      \n",
              "  <style>\n",
              "    .colab-df-container {\n",
              "      display:flex;\n",
              "      flex-wrap:wrap;\n",
              "      gap: 12px;\n",
              "    }\n",
              "\n",
              "    .colab-df-convert {\n",
              "      background-color: #E8F0FE;\n",
              "      border: none;\n",
              "      border-radius: 50%;\n",
              "      cursor: pointer;\n",
              "      display: none;\n",
              "      fill: #1967D2;\n",
              "      height: 32px;\n",
              "      padding: 0 0 0 0;\n",
              "      width: 32px;\n",
              "    }\n",
              "\n",
              "    .colab-df-convert:hover {\n",
              "      background-color: #E2EBFA;\n",
              "      box-shadow: 0px 1px 2px rgba(60, 64, 67, 0.3), 0px 1px 3px 1px rgba(60, 64, 67, 0.15);\n",
              "      fill: #174EA6;\n",
              "    }\n",
              "\n",
              "    [theme=dark] .colab-df-convert {\n",
              "      background-color: #3B4455;\n",
              "      fill: #D2E3FC;\n",
              "    }\n",
              "\n",
              "    [theme=dark] .colab-df-convert:hover {\n",
              "      background-color: #434B5C;\n",
              "      box-shadow: 0px 1px 3px 1px rgba(0, 0, 0, 0.15);\n",
              "      filter: drop-shadow(0px 1px 2px rgba(0, 0, 0, 0.3));\n",
              "      fill: #FFFFFF;\n",
              "    }\n",
              "  </style>\n",
              "\n",
              "      <script>\n",
              "        const buttonEl =\n",
              "          document.querySelector('#df-311e5f1f-a041-4f95-be7f-2fc03f795e3e button.colab-df-convert');\n",
              "        buttonEl.style.display =\n",
              "          google.colab.kernel.accessAllowed ? 'block' : 'none';\n",
              "\n",
              "        async function convertToInteractive(key) {\n",
              "          const element = document.querySelector('#df-311e5f1f-a041-4f95-be7f-2fc03f795e3e');\n",
              "          const dataTable =\n",
              "            await google.colab.kernel.invokeFunction('convertToInteractive',\n",
              "                                                     [key], {});\n",
              "          if (!dataTable) return;\n",
              "\n",
              "          const docLinkHtml = 'Like what you see? Visit the ' +\n",
              "            '<a target=\"_blank\" href=https://colab.research.google.com/notebooks/data_table.ipynb>data table notebook</a>'\n",
              "            + ' to learn more about interactive tables.';\n",
              "          element.innerHTML = '';\n",
              "          dataTable['output_type'] = 'display_data';\n",
              "          await google.colab.output.renderOutput(dataTable, element);\n",
              "          const docLink = document.createElement('div');\n",
              "          docLink.innerHTML = docLinkHtml;\n",
              "          element.appendChild(docLink);\n",
              "        }\n",
              "      </script>\n",
              "    </div>\n",
              "  </div>\n",
              "  "
            ]
          },
          "metadata": {},
          "execution_count": 7
        }
      ]
    },
    {
      "cell_type": "code",
      "source": [
        "print(len(shortTestData))"
      ],
      "metadata": {
        "colab": {
          "base_uri": "https://localhost:8080/"
        },
        "id": "YPozYpLzNOmX",
        "outputId": "2bbec60d-3a1d-48fd-cd2f-a16afa4642e1"
      },
      "execution_count": null,
      "outputs": [
        {
          "output_type": "stream",
          "name": "stdout",
          "text": [
            "56\n"
          ]
        }
      ]
    },
    {
      "cell_type": "code",
      "source": [
        "print(len(shortTestData[shortTestData['condition_label'] == 'cardiovascular']))"
      ],
      "metadata": {
        "colab": {
          "base_uri": "https://localhost:8080/"
        },
        "id": "UWAUxcT9M0_C",
        "outputId": "ef0093b1-0f44-4629-8e7b-74f3752174f7"
      },
      "execution_count": null,
      "outputs": [
        {
          "output_type": "stream",
          "name": "stdout",
          "text": [
            "13\n"
          ]
        }
      ]
    },
    {
      "cell_type": "code",
      "source": [
        "print(len(shortTestData[shortTestData['condition_label'] == 'non-cardiovascular']))"
      ],
      "metadata": {
        "colab": {
          "base_uri": "https://localhost:8080/"
        },
        "id": "0nE9s5y5NINP",
        "outputId": "162dd8ad-9253-4fb0-9820-047cc2e84a6f"
      },
      "execution_count": null,
      "outputs": [
        {
          "output_type": "stream",
          "name": "stdout",
          "text": [
            "43\n"
          ]
        }
      ]
    },
    {
      "cell_type": "code",
      "source": [
        "for index, example in shortTestData[shortTestData['condition_label'] == 'cardiovascular'].iterrows():\n",
        "  print(example['medical_abstract'])\n",
        "  print('\\n\\n')"
      ],
      "metadata": {
        "colab": {
          "base_uri": "https://localhost:8080/"
        },
        "id": "oWsVRX0gN1jm",
        "outputId": "83b6215c-8583-4a16-9de3-d39557e3df36"
      },
      "execution_count": null,
      "outputs": [
        {
          "output_type": "stream",
          "name": "stdout",
          "text": [
            "case unilateral posterior ischemic optic neuropathy after radical neck dissection we present case unilateral posterior ischemic optic neuropathy after bilateral radical neck dissection etiologic factors discussed\n",
            "\n",
            "\n",
            "\n",
            "lipomatous hypertrophy interatrial septum unusual intraoperative finding lipomatous hypertrophy interatrial septum incidental finding man 45 undergoing coronary artery bypass grafting unstable angina he not overweight and did not have any rhythm disturbances diagnosis made frozen section\n",
            "\n",
            "\n",
            "\n",
            "atheroemboli lower urinary tract marker atherosclerotic vascular diseasea case report atheroemboli lower genitourinary tract may serve as marker disseminated atheroembolic disease highly lethal condition case presentation and review our institional experience presented\n",
            "\n",
            "\n",
            "\n",
            "hydatid cyst interatrial and interventricular septum heart our knowledge this report describes first case large hydatid cyst involving full thickness both interatrial and interventricular septum heart which detected at autopsy cyst intact clinically there complete heart block\n",
            "\n",
            "\n",
            "\n",
            "cavernous hemangioma spinal cord report 2 unusual cases we present 2 cases spinal cord intramedullary cavernous hemangioma 1 patient 1st reported case multiple spinal cord lesions diagnosis greatly enhanced by use mri\n",
            "\n",
            "\n",
            "\n",
            "captoprilinduced cholestatic jaundice i have reported case captoprilinduced cholestatic jaundice this drug being used with increasing frequency so it important that physicians recognize this adverse effect captoprilinduced jaundice resolves after cessation captopril therapy\n",
            "\n",
            "\n",
            "\n",
            "supravalvar aortic stenosis complication aortic valve surgery after patient had aortic valvotomy and aortotomy relief valvar aortic stenosis supravalvar stenosis developed over next six years\n",
            "\n",
            "\n",
            "\n",
            "giant left atriuma case report seventysevenyear old woman with mitral stenosis presented with cardiomegaly evident her chest roentgenogram cardiac enlargement due giant left atrium that distorted cardiac structures echocardiogram and firstpass nuclear angiogram able delineate huge left atrium\n",
            "\n",
            "\n",
            "\n",
            "management brucella endocarditis with aortic root abscess three cases brucella endocarditis with aortic root abscess reported two patients successfully managed by combination medical therapy and surgery third patient died suddenly 36 hours after admission hospital\n",
            "\n",
            "\n",
            "\n",
            "rib compression coronary arteries this report describes finding coronary artery narrowing caused by compression by overlying rib two patients with cardiomegaly there probably no clinical significance this finding primary differential diagnostic entity myocardial bridging\n",
            "\n",
            "\n",
            "\n",
            "dynamic cardiomyoplasty chronic chagas heart disease clinicopathological data we report 44yearold man with chronic chagasic cardiomyopathy who underwent latissimus dorsi dynamic cardiomyoplasty and died 4 months later clinicopathological findings discussed and literature reviewed\n",
            "\n",
            "\n",
            "\n",
            "autonomic dysfunction and guillainbarre syndrome use esmolol its management 17yearold girl with guillainbarre syndrome and autonomic dysfunction treated successfully with esmolol esmolol may be appropriate drug rapid assessment and control tachyarrhythmias critically ill patients\n",
            "\n",
            "\n",
            "\n",
            "vagal schwannoma associated with syncopal attacks and postural hypotension case report case vagal schwannoma cerebellomedullary angle reported preoperatively patient had paroxysmal episodes postural hypotension with syncope after total removal vagal tumor her systemic blood pressure returned normal\n",
            "\n",
            "\n",
            "\n"
          ]
        }
      ]
    },
    {
      "cell_type": "code",
      "source": [
        "for index, example in shortTestData[shortTestData['condition_label'] == 'non-cardiovascular'].iterrows():\n",
        "  print(example['medical_abstract'])\n",
        "  print('\\n\\n')"
      ],
      "metadata": {
        "colab": {
          "base_uri": "https://localhost:8080/"
        },
        "id": "oyUbUiB4PAYK",
        "outputId": "69e4a3f8-7d58-4959-9417-f7db1c2d3d2f"
      },
      "execution_count": null,
      "outputs": [
        {
          "output_type": "stream",
          "name": "stdout",
          "text": [
            "ptca gastroepiploic bypass technique percutaneous transluminal coronary angioplasty ptca gastroepiploic bypass described using standard ptca devices severe spasm gastroepiploic bypass occurred modification guide catheter position suggested avoid inducing gastroepiploic bypass spasm\n",
            "\n",
            "\n",
            "\n",
            "catheterization coronary artery bypass graft from descending aorta increasing frequency reoperation coronary artery disease has led use variety grafts this report describes catheter technique selective opacification saphenous vein graft from descending thoracic aorta posterior coronary circulation\n",
            "\n",
            "\n",
            "\n",
            "gastroesophageal reflux infants clinically significant gastroesophageal reflux occurs one 500 infants symptoms resolve 60 80 percent infants by 18 months age thickened formula and position changes often recommended medication and surgical intervention may be needed refractory cases\n",
            "\n",
            "\n",
            "\n",
            "sudden death from acute cocaine intoxication virginia 1988 review medical examiners autopsy records revealed that 1988 33 residents virginia died acute cocaine intoxication subjects 19 45 years old most men used cocaine intravenously and used other toxic substances with lethal dose cocaine\n",
            "\n",
            "\n",
            "\n",
            "atrial fibrillation elderly management update nonvalvular atrial fibrillation associated with markedly increased risk embolic stroke elderly persons evidence accumulating that anticoagulation with warfarin or aspirin may be effective reducing this risk\n",
            "\n",
            "\n",
            "\n",
            "false aneurysm internal mammary artery iatrogenic false aneurysm branch internal mammary artery after sternal wire closure very rare occurrence we describe case which appeared 62 year old woman operated upon mitral valve replacement and diagnosed after digital subtraction angiography\n",
            "\n",
            "\n",
            "\n",
            "meningitis due protozoa and helminths this article reviews microbiology pathogenesis epidemiology clinical manifestations diagnostic tests and recent advances therapy protozoan and helminthic infections central nervous system with more emphasis given protozoan than helminthic infections\n",
            "\n",
            "\n",
            "\n",
            "indomethacin responsive hypercalcaemia associated with renal sarcoma infant presented with nonmetastatic renal spindle cell sarcoma and hypercalcaemia which resolved after treatment with indomethacin there vivo and vitro evidence that hypercalcaemia mediated by circulatory prostaglandins\n",
            "\n",
            "\n",
            "\n",
            "ten cases transitional cell carcinoma bladder causing ureteric obstruction review carried out 10 patients with superficial transitional cell carcinoma bladder ta lesions that causing ureteric obstruction evidence upper tract obstruction did not necessarily indicate deep invasion\n",
            "\n",
            "\n",
            "\n",
            "preventing colorectal cancer knowledgeable patients should not die colorectal cancer increasing intake dietary fiber decreasing fat consumption and increasing use modern technology detect adenomatous polyps and early cancer can greatly decrease mortality associated with colorectal cancer\n",
            "\n",
            "\n",
            "\n",
            "unusual complication ingested foreign body migration foreign body from mouth and throat subcutaneous tissue neck very rare we present case migrating foreign body piece straw from floor mouth neck our knowledge this second case reported english literature\n",
            "\n",
            "\n",
            "\n",
            "severe thrombocytopenia after paracetamol overdose two patients with severe thrombocytopenia after paracetamol overdose described platelet count lowest two days after overdose neither leucopenia nor anaemia occurred\n",
            "\n",
            "\n",
            "\n",
            "procainamideinduced respiratory insufficiency after cardiopulmonary bypass 46yearold man could not be weaned from ventilatory support while receiving procainamide when drug discontinued patient successfully weaned shortly thereafter\n",
            "\n",
            "\n",
            "\n",
            "influence menstrual cycle systemic diseases physiological changes associated with menstrual cycle influence clinical course some diseases such as bronchial asthma allergies anaphylaxis epilepsy migraine dermatoses and porphyria hormonal manipulation can be beneficial some patients\n",
            "\n",
            "\n",
            "\n",
            "pituitary hemorrhage into rathkes cleft cyst this report describes case symptomatic pituitary hemorrhage into rathkes cleft cyst 25yearold woman literature pituitary hemorrhage nonadenomatous sellar tumors reviewed\n",
            "\n",
            "\n",
            "\n",
            "primary leiomyoma liver 30yrold woman with right upper quadrant abdominal pain found have hepatic leiomyoma this youngest patient whom this rare tumor has been found diagnostic approach toward gastrointestinal leiomyomata emphasized including role immunohistochemistry\n",
            "\n",
            "\n",
            "\n",
            "squamous cell carcinoma arising sternotomy scar case 73yearold man whom squamous cell carcinoma developed median sternotomy scar 12 months after coronary artery bypass grafting presented brief review literature included etiology scar carcinoma discussed and outline management given\n",
            "\n",
            "\n",
            "\n",
            "gadoliniummri acute transverse myelopathy patient with acute transverse myelopathy atm had serial magnetic resonance imaging mri studies before and after administration gadolinium gddtpa gddtpamri useful estimating pathologic extent and residual deficit expected atm\n",
            "\n",
            "\n",
            "\n",
            "glossopharyngeal neuralgia associated with cardiac syncope long term treatment with permanent pacing and carbamazepine glossopharyngeal neuralgia associated with cardiac syncope developed 53 year old man symptoms controlled with temporary and permanent transvenous pacing and carbamazepine\n",
            "\n",
            "\n",
            "\n",
            "myxomatous cyst brachial plexus case report case myxomatous cyst brachial plexus presented clinical course reported and frequency lesion diagnostic workup histopathology and surgical therapy discussed\n",
            "\n",
            "\n",
            "\n",
            "tethered cord syndrome from choristoma mullerian origin case report authors report case tethered cord syndrome due choristoma mullerian origin located spinal cord at lumbosacral junction two similar cases found upon review literature embryology this lesion discussed\n",
            "\n",
            "\n",
            "\n",
            "frontal sinus carcinoma presenting as acute sinusitis primary carcinoma frontal sinus extremely rare aetiology tumour remains obscure and even with rapid diagnosis and radical surgery prognosis remains very poor\n",
            "\n",
            "\n",
            "\n",
            "celltocell communication and control growth growth transformed cells inhibited by celltocell communication with normal cells this communication regulated by certain oncogenes that alone or cooperation can block communication\n",
            "\n",
            "\n",
            "\n",
            "perirenal candidial abscess perirenal candidial abscesses rare with few welldocumented cases literature we describe case perinephric abscess treated with amphotericin b and nephrectomy\n",
            "\n",
            "\n",
            "\n",
            "squamous carcinoma liver squamous carcinoma liver has only rarely been reported we present case which highlights not only difficulties diagnosis but also how it can closely mimic sclerosing cholangitis\n",
            "\n",
            "\n",
            "\n",
            "cervical spine diastematomyelia adulthood adult cervical diastematomyelia rare malformation and usually associated with posterior element anomalies case isolated cervical diastematomyelia which initially thought be herniated cervical disc described diagnosis and surgical management discussed\n",
            "\n",
            "\n",
            "\n",
            "accessory armdysraphism or disparity case report case 3monthold infant with accessory third arm reported extra appendage attached at midcervical region and associated with posterior cervical dysraphism and cervical cord lipoma possible theories origin examined\n",
            "\n",
            "\n",
            "\n",
            "pituitary hemorrhage into rathkes cleft cyst this report describes case symptomatic pituitary hemorrhage into rathkes cleft cyst 25yearold woman literature pituitary hemorrhage nonadenomatous sellar tumors reviewed\n",
            "\n",
            "\n",
            "\n",
            "maxillary sinus hypoplasia masquerading as chronic sinusitis maxillary sinus hypoplasia common condition that may be misdiagnosed as chronic sinusitis although hypoplasia can usually be seen conventional sinus films computed tomography may be necessary as cases described by authors this article\n",
            "\n",
            "\n",
            "\n",
            "single polypoid cystitis cystica and glandularis presenting as benign bladder tumor case report tenyearold boy with benign polypoid bladder tumor presented rarity benign or malignant bladder tumors children reviewed as well as possible etiology this unique lesion\n",
            "\n",
            "\n",
            "\n",
            "large cystic optic glioma 5 12yearold boy developed huge cyst his chiasmal glioma 4 years after radiation therapy cyst produced obtundation but successfully treated\n",
            "\n",
            "\n",
            "\n",
            "vaginal mullerian cyst presenting as anterior enterocele case report case discussed extremely large vaginal mullerian cyst that presented as anterior enterocele sonographic and radiologic studies described patient underwent operative excision cyst with reconstructive vaginoplasty\n",
            "\n",
            "\n",
            "\n",
            "coexisting thymic carcinoid tumor and thymoma thymic carcinoid tumors unusual neoplasms that different from thymomas we report case coexisting thymic carcinoid tumor and thymoma associated with myasthenia gravis clinicopathological findings discussed with review literature\n",
            "\n",
            "\n",
            "\n",
            "midline presentation cervical lymphomata three cases lymphoma reported all which presented as midline cervical swelling and appeared be localised disease importance early removal such lesions emphasized\n",
            "\n",
            "\n",
            "\n",
            "rightleft disorientation dementia alzheimer type we demonstrated that rightleft orientation rlo confronting subject more impaired patients with dementia alzheimer type than patients with multiinfarct dementia comparable degree dementia impairment rlo independent aphasia and spatial disorientation\n",
            "\n",
            "\n",
            "\n",
            "malignant thymoma presenting as intracardiac tumor and superior vena caval obstruction case malignant thymoma with intracardiac infiltration and intrinsic superior vena caval obstruction due tumor reported intracardiac invasion by thymoma rare and this reason believed worthy report\n",
            "\n",
            "\n",
            "\n",
            "portal venous gas patient with crohns disease portal venous gas usually occurs setting acute abdomen several causes benign portal venous gas pvg have been reported we describe finding pvg by computed tomography febrile patient with crohns disease and discuss clinical implications such finding\n",
            "\n",
            "\n",
            "\n",
            "homocystinuria presenting as central retinal artery occlusion and longstanding thromboembolic disease case central retinal artery occlusion patient with 10year history unexplained thromboembolic disease due secondary hypercoagulable state presented ophthalmological examination led final diagnosis\n",
            "\n",
            "\n",
            "\n",
            "7th nerve palsy after extradural blood patch we describe patient who developed 7th cranial nerve palsy following extradural blood patch full recovery followed likely aetiology discussed\n",
            "\n",
            "\n",
            "\n",
            "lipomatous hypertrophy interatrial septum unusual intraoperative finding lipomatous hypertrophy interatrial septum incidental finding man 45 undergoing coronary artery bypass grafting unstable angina he not overweight and did not have any rhythm disturbances diagnosis made frozen section\n",
            "\n",
            "\n",
            "\n",
            "multiple sclerosis and narcolepsy possible similar genetic susceptibility we have studied 2 patients with multiple sclerosis and narcolepsy both patients dr 2 histocompatibility antigen positive each patients diagnosis narcolepsy confirmed by polygraphic testing\n",
            "\n",
            "\n",
            "\n",
            "vaginal bleeding childhood and adolescence vaginal bleeding early childhood regardless its duration and quantity always clinical importance this article discusses examination child and adolescent and reviews various causes vaginal bleeding these patient groups\n",
            "\n",
            "\n",
            "\n",
            "malignant melanoma oral cavity case report oral cavity rare location development primary malignant melanoma less than 2 all malignant melanomas develop region case report presented illustrating management site palate together with review relevant literature\n",
            "\n",
            "\n",
            "\n"
          ]
        }
      ]
    }
  ]
}